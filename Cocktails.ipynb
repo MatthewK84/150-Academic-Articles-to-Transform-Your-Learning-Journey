{
  "nbformat": 4,
  "nbformat_minor": 0,
  "metadata": {
    "colab": {
      "provenance": [],
      "authorship_tag": "ABX9TyOTNELhw8PtED6Gke+5Jr6l",
      "include_colab_link": true
    },
    "kernelspec": {
      "name": "python3",
      "display_name": "Python 3"
    },
    "language_info": {
      "name": "python"
    }
  },
  "cells": [
    {
      "cell_type": "markdown",
      "metadata": {
        "id": "view-in-github",
        "colab_type": "text"
      },
      "source": [
        "<a href=\"https://colab.research.google.com/github/MatthewK84/LinkedIn-Learning-Journey/blob/main/Cocktails.ipynb\" target=\"_parent\"><img src=\"https://colab.research.google.com/assets/colab-badge.svg\" alt=\"Open In Colab\"/></a>"
      ]
    },
    {
      "cell_type": "code",
      "execution_count": null,
      "metadata": {
        "id": "urSGq_fP9C9o"
      },
      "outputs": [],
      "source": [
        "!pip install requests duckdb"
      ]
    },
    {
      "cell_type": "code",
      "source": [
        "import requests\n",
        "import duckdb\n",
        "import time\n",
        "\n",
        "# Function to log messages\n",
        "def log_message(message):\n",
        "    print(f\"{time.strftime('%Y-%m-%d %H:%M:%S')} - {message}\")\n",
        "\n",
        "# Function to fetch data from the Cocktail DB API\n",
        "def fetch_data():\n",
        "    url = \"https://the-cocktail-db.p.rapidapi.com/search.php\"\n",
        "    querystring = {\"s\": \"vodka\"}\n",
        "    headers = {\n",
        "        \"X-RapidAPI-Key\": \"Please Get Your Own Cocktail DB API\",\n",
        "        \"X-RapidAPI-Host\": \"the-cocktail-db.p.rapidapi.com\"\n",
        "    }\n",
        "\n",
        "    try:\n",
        "        response = requests.get(url, headers=headers, params=querystring)\n",
        "        response.raise_for_status()\n",
        "        return response.json()\n",
        "    except requests.RequestException as e:\n",
        "        log_message(f\"Error fetching data: {e}\")\n",
        "        return None\n",
        "\n",
        "# Function to process data\n",
        "def process_data(data):\n",
        "    processed_data = []\n",
        "    for drink in data['drinks']:\n",
        "        processed_data.append({\n",
        "            'id': drink['idDrink'],\n",
        "            'name': drink['strDrink']\n",
        "        })\n",
        "    return processed_data\n",
        "\n",
        "# Function to store data in DuckDB\n",
        "def store_data(data, db_file='file.db'):\n",
        "    try:\n",
        "        with duckdb.connect(db_file) as con:\n",
        "            # Create table (if not exists)\n",
        "            con.execute('''\n",
        "            CREATE TABLE IF NOT EXISTS vodka_drinks (\n",
        "                id TEXT,\n",
        "                name TEXT\n",
        "            )\n",
        "            ''')\n",
        "\n",
        "            # Insert data\n",
        "            for item in data:\n",
        "                con.execute('INSERT INTO vodka_drinks (id, name) VALUES (?, ?)', (item['id'], item['name']))\n",
        "\n",
        "            log_message(\"Vodka cocktails stored successfully in DuckDB.\")\n",
        "    except Exception as e:\n",
        "        log_message(f\"Error storing data in DuckDB: {e}\")\n",
        "\n",
        "# Main pipeline function\n",
        "def data_pipeline():\n",
        "    start_time = time.time()\n",
        "    log_message(\"Data pipeline execution started.\")\n",
        "\n",
        "    data = fetch_data()\n",
        "    if data:\n",
        "        processed_data = process_data(data)\n",
        "        store_data(processed_data)\n",
        "        log_message(\"Data pipeline execution successful.\")\n",
        "    else:\n",
        "        log_message(\"Data pipeline execution failed.\")\n",
        "\n",
        "    end_time = time.time()\n",
        "    log_message(f\"Total execution time: {end_time - start_time} seconds\")\n",
        "\n",
        "def fetch_and_display_data(db_file='file.db'):\n",
        "    try:\n",
        "        with duckdb.connect(db_file) as con:\n",
        "            result = con.execute('SELECT * FROM vodka_drinks').fetchall()\n",
        "            for row in result:\n",
        "                print(row)\n",
        "            log_message(\"Data fetched and displayed successfully.\")\n",
        "    except Exception as e:\n",
        "        log_message(f\"Error fetching data: {e}\")\n",
        "\n",
        "# Run the pipeline\n",
        "data_pipeline()\n",
        "fetch_and_display_data()"
      ],
      "metadata": {
        "colab": {
          "base_uri": "https://localhost:8080/"
        },
        "id": "oTB3PQ8OBtlC",
        "outputId": "68326f70-e22f-4ff0-f8e8-25b652b69539"
      },
      "execution_count": 14,
      "outputs": [
        {
          "output_type": "stream",
          "name": "stdout",
          "text": [
            "2023-11-16 21:27:02 - Data pipeline execution started.\n",
            "2023-11-16 21:27:03 - Vodka cocktails stored successfully in DuckDB.\n",
            "2023-11-16 21:27:03 - Data pipeline execution successful.\n",
            "2023-11-16 21:27:03 - Total execution time: 0.6274561882019043 seconds\n",
            "('13196', 'Long vodka')\n",
            "('16967', 'Vodka Fizz')\n",
            "('178362', 'Vodka Slime')\n",
            "('178363', 'Vodka Lemon')\n",
            "('178364', 'Vodka Tonic')\n",
            "('12800', 'Coffee-Vodka')\n",
            "('14167', 'Vodka Martini')\n",
            "('15403', 'Vodka Russian')\n",
            "('12460', 'Vodka And Tonic')\n",
            "2023-11-16 21:27:03 - Data fetched and displayed successfully.\n"
          ]
        }
      ]
    }
  ]
}